{
 "cells": [
  {
   "cell_type": "code",
   "execution_count": 1,
   "id": "29ff32b1-3814-4b2f-9b1c-32309ac91b92",
   "metadata": {
    "tags": []
   },
   "outputs": [],
   "source": [
    "import numpy as np\n",
    "import copy\n",
    "from astropy.cosmology import FlatLambdaCDM\n",
    "from astropy.coordinates import SkyCoord\n",
    "import astropy.units as u\n",
    "from astropy.io import ascii\n",
    "from astropy import wcs\n",
    "from astropy.io import fits\n",
    "from astropy.table import QTable, Table, Column,vstack\n",
    "\n",
    "# Set up matplotlib and use a nicer set of plot parameters\n",
    "%config InlineBackend.rc = {}\n",
    "import matplotlib\n",
    "matplotlib.rc('mathtext',fontset='stixsans')\n",
    "#matplotlib.rc_file(\\\"../../templates/matplotlibrc\\\")\n",
    "import matplotlib.pyplot as plt\n",
    "%matplotlib inline\n",
    "\n",
    "from matplotlib.ticker import (MultipleLocator, FormatStrFormatter,\n",
    "                               AutoMinorLocator)\n",
    "# Astropy Regions (but standalone package installed with pip)\n",
    "import regions"
   ]
  },
  {
   "cell_type": "code",
   "execution_count": 2,
   "id": "0eeadfab-f82d-4dc4-bab0-41a9ef81c61a",
   "metadata": {
    "tags": []
   },
   "outputs": [],
   "source": [
    "def pfs_vertices(ctr_coord,pa=0):\n",
    "    # Given a field center (SkyCoord object), return the 6 vertices of a Subaru PFS field. Optional PA is in degrees\n",
    "    d = 41.4*u.arcmin \n",
    "    vertices=[]\n",
    "    for i in range(6):\n",
    "        angularoffset = np.pi / 3 * i *u.radian + pa*u.deg\n",
    "        vertices.append(ctr_coord.directional_offset_by(angularoffset,d))\n",
    "    return SkyCoord(vertices)"
   ]
  },
  {
   "cell_type": "code",
   "execution_count": 3,
   "id": "5b24acc7-2432-466d-97fa-55d2fc7f19fe",
   "metadata": {
    "tags": []
   },
   "outputs": [],
   "source": [
    "ge_fields_in = ascii.read('pfs_ge_centers.txt')\n",
    "\n",
    "fields   = ge_fields_in['fieldname']\n",
    "subfield = ge_fields_in['subfieldno']\n",
    "ra_field = ge_fields_in['ra']\n",
    "dec_field= ge_fields_in['dec']\n",
    "\n",
    "ctr_coords = SkyCoord(ra=ra_field*u.deg, dec=dec_field*u.deg, frame='icrs')"
   ]
  },
  {
   "cell_type": "code",
   "execution_count": 4,
   "id": "f4dcd6c8-fddf-4d6b-bba2-b17ddc21d4bf",
   "metadata": {
    "tags": []
   },
   "outputs": [
    {
     "name": "stdout",
     "output_type": "stream",
     "text": [
      "Rough center for COSMOS: 10h00m25.6158s+2d06m28.8659s\n"
     ]
    }
   ],
   "source": [
    "fieldstr = 'COSMOS'\n",
    "getfields = fields==fieldstr\n",
    "ctrs_here = ctr_coords[getfields]\n",
    "n_pointings=np.sum(getfields)\n",
    "\n",
    "# Compute a very rough center position for these pointings, as the average of the pointing centers\n",
    "rough_ctr = SkyCoord(ra=np.mean(ctrs_here.ra.to(u.deg)), dec=np.mean(ctrs_here.dec.to(u.deg)), frame='icrs')\n",
    "\n",
    "print('Rough center for '+fieldstr+': '+rough_ctr.ra.to_string(u.hour)+rough_ctr.dec.to_string(u.deg,alwayssign=True))"
   ]
  },
  {
   "cell_type": "code",
   "execution_count": 5,
   "id": "bc76ad4d-ede2-4269-b512-9b968480a566",
   "metadata": {
    "tags": []
   },
   "outputs": [],
   "source": [
    "wcstmp = wcs.WCS(naxis=2)\n",
    "wcstmp.wcs.crpix=[1,1]\n",
    "wcstmp.wcs.crval=[148.547008, 0.662545] # eyeballed off hscMap\n",
    "wcstmp.wcs.cdelt=[0.001666667, 0.00166667]\n",
    "wcstmp.wcs.ctype = [\"RA---TAN\", \"DEC--TAN\"]\n",
    "wcstmp.wcs.radesys='ICRS'\n",
    "wcstmp.wcs.equinox=2000.00\n",
    "\n",
    "ctr1 = ctr_coords[9]"
   ]
  },
  {
   "cell_type": "code",
   "execution_count": 6,
   "id": "73b0b50f-e408-4d1c-bde5-6971b02bfa41",
   "metadata": {
    "tags": []
   },
   "outputs": [
    {
     "name": "stderr",
     "output_type": "stream",
     "text": [
      "/global/homes/b/bhorowit/.conda/envs/nersc-all2/lib/python3.6/site-packages/matplotlib/patches.py:83: UserWarning: Setting the 'color' property will overridethe edgecolor or facecolor properties. \n",
      "  warnings.warn(\"Setting the 'color' property will override\"\n",
      "/global/homes/b/bhorowit/.conda/envs/nersc-all2/lib/python3.6/site-packages/matplotlib/patches.py:83: UserWarning: Setting the 'color' property will overridethe edgecolor or facecolor properties. \n",
      "  warnings.warn(\"Setting the 'color' property will override\"\n",
      "/global/homes/b/bhorowit/.conda/envs/nersc-all2/lib/python3.6/site-packages/matplotlib/patches.py:83: UserWarning: Setting the 'color' property will overridethe edgecolor or facecolor properties. \n",
      "  warnings.warn(\"Setting the 'color' property will override\"\n",
      "/global/homes/b/bhorowit/.conda/envs/nersc-all2/lib/python3.6/site-packages/matplotlib/patches.py:83: UserWarning: Setting the 'color' property will overridethe edgecolor or facecolor properties. \n",
      "  warnings.warn(\"Setting the 'color' property will override\"\n"
     ]
    },
    {
     "data": {
      "image/png": "[encoded data removed]",
      "text/plain": [
       "<Figure size 640x480 with 1 Axes>"
      ]
     },
     "metadata": {},
     "output_type": "display_data"
    }
   ],
   "source": [
    "all_regions = []\n",
    "\n",
    "# Des\n",
    "pa_list = [0,0,0,0]\n",
    "\n",
    "# This creates the Regions (i.e. list of regions)\n",
    "for tmpcoord,pa_tmp in zip(ctr_coords[getfields],pa_list):\n",
    "    all_regions.append(regions.PolygonSkyRegion(vertices=pfs_vertices(tmpcoord,pa=pa_tmp)))\n",
    "\n",
    "# This is the composite region of all pointings\n",
    "for ii in range(n_pointings-1):\n",
    "    if ii == 0:\n",
    "        comb_region = all_regions[0]\n",
    "    comb_region = comb_region | all_regions[ii+1]\n",
    "\n",
    "pix_reg_allcosmos = comb_region.to_pixel(wcstmp)\n",
    "\n",
    "colorlist=['black','green','red','blue']\n",
    "\n",
    "ax=plt.subplot(projection=wcstmp)\n",
    "ax.set_xlim(0,2100)\n",
    "ax.set_ylim(0,2100)\n",
    "for reg_tmp,colortmp in zip(all_regions,colorlist):\n",
    "    pix_reg_tmp = reg_tmp.to_pixel(wcstmp)\n",
    "    ax.add_artist(pix_reg_tmp.as_artist(color=colortmp))\n",
    "ax.set_aspect('equal')"
   ]
  },
  {
   "cell_type": "code",
   "execution_count": 8,
   "id": "ad846fda-2e45-4eaf-9db3-2123d0231d54",
   "metadata": {
    "tags": []
   },
   "outputs": [
    {
     "name": "stdout",
     "output_type": "stream",
     "text": [
      "10h00m25.6158s+2d06m28.8659s\n"
     ]
    }
   ],
   "source": [
    "print(rough_ctr.ra.to_string(u.hour)+rough_ctr.dec.to_string(u.deg,alwayssign=True))\n"
   ]
  },
  {
   "cell_type": "code",
   "execution_count": null,
   "id": "ec3535a2-d7ff-42cb-be85-a821104435d8",
   "metadata": {},
   "outputs": [],
   "source": []
  }
 ],
 "metadata": {
  "kernelspec": {
   "display_name": "nersc-all2",
   "language": "python",
   "name": "nersc-all2"
  },
  "language_info": {
   "codemirror_mode": {
    "name": "ipython",
    "version": 3
   },
   "file_extension": ".py",
   "mimetype": "text/x-python",
   "name": "python",
   "nbconvert_exporter": "python",
   "pygments_lexer": "ipython3",
   "version": "3.6.4"
  }
 },
 "nbformat": 4,
 "nbformat_minor": 5
}
