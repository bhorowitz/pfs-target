{
 "cells": [
  {
   "cell_type": "code",
   "execution_count": 1,
   "id": "f92b6f2b-d5ff-419b-a762-9671115968c4",
   "metadata": {
    "tags": []
   },
   "outputs": [
    {
     "name": "stdout",
     "output_type": "stream",
     "text": [
      "Populating the interactive namespace from numpy and matplotlib\n"
     ]
    }
   ],
   "source": [
    "from astropy.io import fits\n",
    "%pylab inline"
   ]
  },
  {
   "cell_type": "code",
   "execution_count": null,
   "id": "92729e1d-ad6e-4ba1-bea4-6dbb1a7a0b80",
   "metadata": {},
   "outputs": [],
   "source": [
    "hdul = fits.open(\"../EN1/HSCJ_EN1_u2k_CATALOG_beta0pt9.fits\")\n",
    "FLAGS = fits.open(\"../EN1/HSCJ_EN1_u2k_FLAGS_beta0pt9.fits\")\n",
    "\n",
    "#this one is big and annoying to load...\n",
    "zout = np.genfromtxt(\"../EN1/HSCJ_EN1_u2irac_v3.3.zout\",dtype=str)\n"
   ]
  },
  {
   "cell_type": "code",
   "execution_count": null,
   "id": "32926205-f05f-4e39-8617-f877e9317ed1",
   "metadata": {
    "tags": []
   },
   "outputs": [],
   "source": [
    "data = hdul[1].data"
   ]
  },
  {
   "cell_type": "markdown",
   "id": "bcbeffb5-7352-413f-ae42-09c06f0f92cf",
   "metadata": {},
   "source": [
    "## FLAGS"
   ]
  },
  {
   "cell_type": "code",
   "execution_count": null,
   "id": "6bf86ea4-87cd-4945-ac36-cfc7635198cf",
   "metadata": {
    "tags": []
   },
   "outputs": [],
   "source": [
    "galaxy_flag = FLAGS[1].data.field(\"use_hiz\")+FLAGS[1].data.field(\"use_galaxy\")\n",
    "#fairly sure all use_hiz are part of uze_galaxy, but to be sure...."
   ]
  },
  {
   "cell_type": "code",
   "execution_count": null,
   "id": "4943eb6c-05e6-4c0f-a377-0782d0bac81d",
   "metadata": {
    "tags": []
   },
   "outputs": [],
   "source": [
    "#relevent fluxes\n",
    "\n",
    "fluxy = data.field(\"y_psfFlux\")\n",
    "fluxu = data.field(\"u_psfFlux\")\n",
    "fluxg = data.field(\"g_psfFlux\")\n",
    "fluxr = data.field(\"r_psfFlux\")\n",
    "\n",
    "#relevant z_photo info\n",
    "\n",
    "z_spec = np.array(zout[:,2],dtype=float)\n",
    "z_spec_flag = zout[:,3]\n",
    "\n",
    "nfilt = np.array(zout[:,4],dtype=int)\n",
    "\n",
    "z_phot = np.array(zout[:,5],dtype=float) #11 (Median) is better? 7 is best fit or spec-z if available\n",
    "z_phot_chi2 = np.array(zout[:,6],dtype=float)\n",
    "\n",
    "#"
   ]
  },
  {
   "cell_type": "code",
   "execution_count": null,
   "id": "85a7b443-aed9-4099-a900-dc58b630092a",
   "metadata": {
    "tags": []
   },
   "outputs": [],
   "source": [
    "# y_cut"
   ]
  },
  {
   "cell_type": "code",
   "execution_count": null,
   "id": "8686e65b-c516-44a3-b7fd-79d8b6ed18c5",
   "metadata": {
    "tags": []
   },
   "outputs": [],
   "source": [
    "# y_cut\n",
    "in_AB = (-2.5*log10(fluxy) + 27) < 25.3\n",
    "\n",
    "#ugr cut\n",
    "ugr = (fluxu>0)*(fluxg>0)*(fluxr>0)\n",
    "\n",
    "\n",
    "#z_cut\n",
    "z_cut = (z_phot>2.1)*(z_phot<3.5)\n",
    "\n",
    "z_background = (z_phot>2.5)\n",
    "#filters cut\n",
    "filter_cut = (nfilt>10)\n",
    "\n",
    "#r_cut\n",
    "r_AB = (-2.5*log10(fluxr) + 27)\n",
    "\n",
    "r_low = (r_AB>24.2)\n",
    "\n",
    "r_high = (r_AB<24.8)\n",
    "\n"
   ]
  },
  {
   "cell_type": "code",
   "execution_count": null,
   "id": "7d997646-25a8-4159-80ab-82a12b287f91",
   "metadata": {
    "tags": []
   },
   "outputs": [],
   "source": [
    "#Foreground sample:\n",
    "\n",
    "bool_foreground = galaxy_flag*z_cut*ugr*in_AB*filter_cut*~z_background\n",
    "np.sum(bool_foreground)"
   ]
  },
  {
   "cell_type": "code",
   "execution_count": null,
   "id": "e7312251-cb24-4aab-8125-ea0cd0bc8150",
   "metadata": {
    "tags": []
   },
   "outputs": [],
   "source": [
    "#high\n",
    "bool_high = galaxy_flag*z_cut*ugr*in_AB*filter_cut*z_background*r_low*r_high\n",
    "np.sum(bool_high)"
   ]
  },
  {
   "cell_type": "code",
   "execution_count": null,
   "id": "df3a7981-b076-4a83-8cac-db50a51ed95d",
   "metadata": {
    "tags": []
   },
   "outputs": [],
   "source": [
    "#low\n",
    "bool_low = galaxy_flag*z_cut*ugr*in_AB*filter_cut*z_background*(~r_low)\n",
    "np.sum(bool_low)"
   ]
  },
  {
   "cell_type": "code",
   "execution_count": null,
   "id": "0fec326f-ac28-4dae-9c7d-5c7cd7293b27",
   "metadata": {
    "tags": []
   },
   "outputs": [],
   "source": [
    "#show on sky...\n",
    "RA = data.field(\"RA\")\n",
    "DEC = data.field(\"DEC\")"
   ]
  },
  {
   "cell_type": "code",
   "execution_count": null,
   "id": "9773c17b-208a-4b58-9668-6c48b45f9aa9",
   "metadata": {
    "tags": []
   },
   "outputs": [],
   "source": [
    "plt.plot(RA[bool_low],DEC[bool_low],\"r.\",markersize=0.5)\n",
    "show()\n",
    "plt.plot(RA[bool_high],DEC[bool_high],\"r.\",markersize=0.5)\n",
    "show()\n",
    "plt.plot(RA[bool_foreground],DEC[bool_foreground],\"r.\",markersize=0.5)\n",
    "show()"
   ]
  },
  {
   "cell_type": "code",
   "execution_count": null,
   "id": "414339ee-22ab-4400-8bb1-27b8bd3089e1",
   "metadata": {},
   "outputs": [],
   "source": []
  }
 ],
 "metadata": {
  "kernelspec": {
   "display_name": "nersc-all2",
   "language": "python",
   "name": "nersc-all2"
  },
  "language_info": {
   "codemirror_mode": {
    "name": "ipython",
    "version": 3
   },
   "file_extension": ".py",
   "mimetype": "text/x-python",
   "name": "python",
   "nbconvert_exporter": "python",
   "pygments_lexer": "ipython3",
   "version": "3.6.4"
  }
 },
 "nbformat": 4,
 "nbformat_minor": 5
}
